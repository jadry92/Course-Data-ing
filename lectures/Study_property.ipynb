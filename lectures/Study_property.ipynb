{
 "cells": [
  {
   "cell_type": "markdown",
   "metadata": {},
   "source": [
    "# Why _property()_ is important?\n",
    "Becasue fix the private variables problem in python.\n",
    "Example:\n",
    "We'll create a Person Class which is going to save the name of a person and will have methos to show and change it."
   ]
  },
  {
   "cell_type": "code",
   "execution_count": 2,
   "metadata": {},
   "outputs": [
    {
     "name": "stdout",
     "output_type": "stream",
     "text": [
      "-- setting name --\n",
      "-- setting name --\n",
      "-- getting name --\n",
      "Name = johan\n",
      "-- getting name --\n",
      "Name = Sebas\n"
     ]
    }
   ],
   "source": [
    "class Person_v1:\n",
    "    def __init__(self, name = None):\n",
    "        self.set_name(name)\n",
    "    \n",
    "    def get_name(self):\n",
    "        print('-- getting name --')\n",
    "        print('Name = {}'.format(self.name))\n",
    "    \n",
    "    def set_name(self, value):\n",
    "        print('-- setting name --')\n",
    "        self.name = value\n",
    "\n",
    "person_1 = Person_v1('johan')\n",
    "person_2 = Person_v1('Sebas')\n",
    "\n",
    "# Test methos\n",
    "\n",
    "person_1.get_name()\n",
    "person_2.get_name()\n"
   ]
  },
  {
   "cell_type": "markdown",
   "metadata": {},
   "source": [
    "As you can see this is a easy implementation of the idea.But the problem is that someone can change the value of the varibles without premises."
   ]
  },
  {
   "cell_type": "code",
   "execution_count": 3,
   "metadata": {},
   "outputs": [
    {
     "name": "stdout",
     "output_type": "stream",
     "text": [
      "-- getting name --\n",
      "Name = pedro\n"
     ]
    }
   ],
   "source": [
    "person_1.name = 'pedro'\n",
    "\n",
    "person_1.get_name()\n"
   ]
  },
  {
   "cell_type": "markdown",
   "metadata": {},
   "source": [
    "Python gives the  build in function *property()* which return a object with three methos \"getter\", \"setter\" and \"delete\". If we apply to our example."
   ]
  },
  {
   "cell_type": "code",
   "execution_count": 4,
   "metadata": {},
   "outputs": [
    {
     "name": "stdout",
     "output_type": "stream",
     "text": [
      "-- setting name --\n",
      "-- setting name --\n",
      "-- getting name --\n",
      "Name = johan\n",
      "-- getting name --\n",
      "Name = Sebas\n"
     ]
    }
   ],
   "source": [
    "class Person_v2:\n",
    "    def __init__(self, name = '', age = 0, a_live = True):\n",
    "        self.name = name\n",
    "    \n",
    "    def get_name(self):\n",
    "        print('-- getting name --')\n",
    "        print('Name = {}'.format(self._name))\n",
    "            \n",
    "    def set_name(self, value):\n",
    "        print('-- setting name --')\n",
    "        self._name = value\n",
    "    \n",
    "    name = property(fget=get_name, fset=set_name)\n",
    "\n",
    "    \n",
    "    \n",
    "person_1 = Person_v2('johan')\n",
    "person_2 = Person_v2('Sebas')\n",
    "\n",
    "# Test methos\n",
    "\n",
    "person_1.get_name()\n",
    "person_2.get_name()\n"
   ]
  },
  {
   "cell_type": "code",
   "execution_count": 5,
   "metadata": {},
   "outputs": [
    {
     "name": "stdout",
     "output_type": "stream",
     "text": [
      "-- setting name --\n",
      "-- getting name --\n",
      "Name = 12\n"
     ]
    }
   ],
   "source": [
    "person_1.name=12\n",
    "person_1.name"
   ]
  },
  {
   "cell_type": "markdown",
   "metadata": {},
   "source": [
    "As you can see if you want to modify the variable name the variable itself call the method that we give to the \"fset\" in property. And if I access to the variable it's going to call \"fget\" itself.\n",
    "The other way to define \"fget\" is with the decorater _@property_. for example"
   ]
  },
  {
   "cell_type": "code",
   "execution_count": 1,
   "metadata": {},
   "outputs": [
    {
     "name": "stdout",
     "output_type": "stream",
     "text": [
      "-- setting name --\n",
      "-- setting name --\n",
      "-- getting name --\n",
      "Name = johan\n",
      "-- getting name --\n",
      "Name = Sebas\n"
     ]
    }
   ],
   "source": [
    "class Person_v3:\n",
    "    def __init__(self, name = '', age = 0, a_live = True):\n",
    "        self.name = name\n",
    "\n",
    "    @property\n",
    "    def name(self):\n",
    "        print('-- getting name --')\n",
    "        print('Name = {}'.format(self._name))\n",
    "    \n",
    "    @name.setter\n",
    "    def name(self, value):\n",
    "        print('-- setting name --')\n",
    "        self._name = value\n",
    "\n",
    "            \n",
    "person_1 = Person_v3('johan')\n",
    "person_2 = Person_v3('Sebas')\n",
    "\n",
    "# Test methos\n",
    "\n",
    "person_1.name\n",
    "person_2.name"
   ]
  },
  {
   "cell_type": "code",
   "execution_count": 2,
   "metadata": {},
   "outputs": [
    {
     "name": "stdout",
     "output_type": "stream",
     "text": [
      "-- setting name --\n",
      "-- getting name --\n",
      "Name = 12\n"
     ]
    }
   ],
   "source": [
    "person_1.name=12\n",
    "person_1.name"
   ]
  },
  {
   "cell_type": "markdown",
   "metadata": {},
   "source": [
    "**Example 2:**\n"
   ]
  },
  {
   "cell_type": "code",
   "execution_count": 12,
   "metadata": {},
   "outputs": [],
   "source": [
    "class NewsPage:\n",
    "    def __init__(self, url):\n",
    "        self._html = None\n",
    "        self._visit(url)\n",
    "\n",
    "    def _select(self, query_string):\n",
    "        return self._html\n",
    "\n",
    "    def _select_label_a(self):\n",
    "        return self._html\n",
    "\n",
    "    def _visit(self, url):\n",
    "        self._html = url\n",
    "\n",
    "\n",
    "\n",
    "class ArticlePage(NewsPage):\n",
    "    def __init__(self, url):\n",
    "        super().__init__(url)\n",
    "\n",
    "    @property\n",
    "    def body(self):\n",
    "        print('getting the body')\n",
    "        result = ['231313','312312']\n",
    "        return result[0] if len(result) else ''\n",
    "\n",
    "    @property\n",
    "    def title(self):\n",
    "        print('getting the title')\n",
    "        result = ['231313','312312']\n",
    "        return result[0] if len(result) else ''\n",
    "\n",
    "    "
   ]
  },
  {
   "cell_type": "code",
   "execution_count": 13,
   "metadata": {},
   "outputs": [],
   "source": [
    "art = ArticlePage('www')\n",
    "ll = list(filter(lambda pp: not pp.startswith('_'), dir(art)))"
   ]
  },
  {
   "cell_type": "code",
   "execution_count": 14,
   "metadata": {},
   "outputs": [
    {
     "name": "stdout",
     "output_type": "stream",
     "text": [
      "getting the body\n",
      "getting the title\n"
     ]
    },
    {
     "data": {
      "text/plain": [
       "['231313', '231313']"
      ]
     },
     "execution_count": 14,
     "metadata": {},
     "output_type": "execute_result"
    }
   ],
   "source": [
    "ex = [str(getattr(art,pp)) for pp in ll]\n",
    "ex"
   ]
  },
  {
   "cell_type": "code",
   "execution_count": null,
   "metadata": {},
   "outputs": [],
   "source": []
  }
 ],
 "metadata": {
  "kernelspec": {
   "display_name": "Python 3",
   "language": "python",
   "name": "python3"
  },
  "language_info": {
   "codemirror_mode": {
    "name": "ipython",
    "version": 3
   },
   "file_extension": ".py",
   "mimetype": "text/x-python",
   "name": "python",
   "nbconvert_exporter": "python",
   "pygments_lexer": "ipython3",
   "version": "3.7.3"
  }
 },
 "nbformat": 4,
 "nbformat_minor": 2
}
