{
 "cells": [
  {
   "cell_type": "markdown",
   "metadata": {},
   "source": [
    "beautifulSoup Library allow to analyse text HTML and manipulate by code.\n",
    "the document turned in trees nodes.\n",
    "we could consult a CSS sectors.\n",
    "\n",
    "text -> querties"
   ]
  },
  {
   "cell_type": "code",
   "execution_count": 2,
   "metadata": {},
   "outputs": [],
   "source": [
    "import requests # library for request to the web page\n",
    "import bs4 # library for manipulate web pages\n",
    "import re # library for use regular Expressions \n",
    "\n",
    "try:\n",
    "    response = requests.get('https://www.eltiempo.com')\n",
    "#response? # ->this command give me the type of variable\n",
    "except:\n",
    "    print('Error')\n",
    "    \n",
    "#Extration of the html by bs4\n",
    "soup = bs4.BeautifulSoup(response.text, 'html.parser')\n"
   ]
  },
  {
   "cell_type": "code",
   "execution_count": 3,
   "metadata": {},
   "outputs": [
    {
     "name": "stdout",
     "output_type": "stream",
     "text": [
      "['__attrs__', '__bool__', '__class__', '__delattr__', '__dict__', '__dir__', '__doc__', '__enter__', '__eq__', '__exit__', '__format__', '__ge__', '__getattribute__', '__getstate__', '__gt__', '__hash__', '__init__', '__init_subclass__', '__iter__', '__le__', '__lt__', '__module__', '__ne__', '__new__', '__nonzero__', '__reduce__', '__reduce_ex__', '__repr__', '__setattr__', '__setstate__', '__sizeof__', '__str__', '__subclasshook__', '__weakref__', '_content', '_content_consumed', '_next', 'apparent_encoding', 'close', 'connection', 'content', 'cookies', 'elapsed', 'encoding', 'headers', 'history', 'is_permanent_redirect', 'is_redirect', 'iter_content', 'iter_lines', 'json', 'links', 'next', 'ok', 'raise_for_status', 'raw', 'reason', 'request', 'status_code', 'text', 'url']\n",
      "<bound method Response.json of <Response [200]>>\n",
      "200\n",
      "True\n",
      "Noticias Principales de Colombia y El Mundo: Últimas noticias en deportes, economía, política y tecnología. Manténgase informado sobre las noticias de Colombia en EL TIEMPO.COM.\n"
     ]
    }
   ],
   "source": [
    "print(dir(response))\n",
    "print(response.json)\n",
    "print(response.status_code)\n",
    "#print(response.content)\n",
    "print(response.ok)\n",
    "#\n",
    "#print(soup.select('meta[name=description]')[0]['content'])\n",
    "print(soup.select('meta[name=description]')[0]['content'])\n",
    "#courses_links = soup.select('.NextReleases-list')\n",
    "#print(dir(courses_links[0]))\n",
    "#courses = [course['href'] for course in courses_links]\n",
    "\n",
    "#for course in courses:\n",
    "#    print(course)"
   ]
  },
  {
   "cell_type": "code",
   "execution_count": 38,
   "metadata": {},
   "outputs": [
    {
     "name": "stdout",
     "output_type": "stream",
     "text": [
      "https://www.eltiempo.com/elecciones-colombia-2019 | 2019\n",
      "https://www.eltiempo.com/foro-w/de-que-manera-usted-ha-sentido-que-le-habla-su-cuerpo-y-que-senales-le-ha-dado-404650 | 404650\n",
      "https://www.eltiempo.com/que-opina-de-aquellas-palabras-que-inducen-a-mas-violencia-foro-w-408282 | 408282\n",
      "https://www.eltiempo.com/que-opina-de-aquellas-palabras-que-inducen-a-mas-violencia-foro-w-408282 | 408282\n",
      "https://www.eltiempo.com/colombia/otras-ciudades/ovnis-experiencias-extraterrestres-en-colombia-357930 | 357930\n",
      "https://www.eltiempo.com/colombia/otras-ciudades/ovnis-experiencias-extraterrestres-en-colombia-357930 | 357930\n",
      "https://www.eltiempo.com/bogota/paro-nacional-de-conductores-en-colombia-415160 | 415160\n",
      "https://www.eltiempo.com/justicia/delitos/claves-que-pedofilos-usan-para-ocultar-pornografia-infantil-en-internet-414560 | 414560\n",
      "https://www.eltiempo.com/unidad-investigativa/drones-la-nueva-arma-letal-de-la-mafia-en-colombia-414974 | 414974\n",
      "https://www.eltiempo.com/politica/gobierno/quien-es-la-mujer-fuerte-del-gobierno-usted-la-doctora-correa-o-caben-las-dos-415204 | 415204\n",
      "https://www.eltiempo.com/deportes/futbol-colombiano/habla-el-arbitro-que-denuncia-a-oscar-julian-ruiz-de-supuesto-abuso-sexual-415230 | 415230\n",
      "https://www.eltiempo.com/contenido-comercial/especial-educacion-para-todos-331486 | 331486\n"
     ]
    }
   ],
   "source": [
    "# http://www.eltiempo.com/noticias/huella-social\n",
    "pattern_main = re.compile(r'^https?:\\/\\/www.eltiempo.com\\/.*\\-(\\d+)$')\n",
    "links_news = []\n",
    "for link in soup.find_all('a'):\n",
    "    if link.get('href') != None:\n",
    "        anwser = pattern_main.match(link.get('href'))\n",
    "        if anwser:\n",
    "            print(link.get('href'),'|',anwser.group(1))\n",
    "            \n",
    "    "
   ]
  },
  {
   "cell_type": "code",
   "execution_count": null,
   "metadata": {},
   "outputs": [],
   "source": []
  },
  {
   "cell_type": "code",
   "execution_count": null,
   "metadata": {},
   "outputs": [],
   "source": []
  }
 ],
 "metadata": {
  "kernelspec": {
   "display_name": "Python 3",
   "language": "python",
   "name": "python3"
  },
  "language_info": {
   "codemirror_mode": {
    "name": "ipython",
    "version": 3
   },
   "file_extension": ".py",
   "mimetype": "text/x-python",
   "name": "python",
   "nbconvert_exporter": "python",
   "pygments_lexer": "ipython3",
   "version": "3.7.3"
  }
 },
 "nbformat": 4,
 "nbformat_minor": 2
}
